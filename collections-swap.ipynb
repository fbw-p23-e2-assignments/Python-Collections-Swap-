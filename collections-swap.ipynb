{
 "cells": [
  {
   "cell_type": "code",
   "execution_count": 10,
   "metadata": {},
   "outputs": [
    {
     "name": "stdout",
     "output_type": "stream",
     "text": [
      "[23, 90, 19, 65]\n"
     ]
    }
   ],
   "source": [
    "def swap(lst, i, j):  # Define a function named \"swap\" that takes a list and two indices as arguments\n",
    "    lst[i], lst[j] = lst[j], lst[i]  # Swap the elements at the two indices using tuple unpacking\n",
    "    return lst  # Return the modified list\n",
    "\n",
    "swap_list = [23, 65, 19, 90]  # Create a list named \"swap_list\"\n",
    "result = swap(swap_list, 1, 3)  # Call the \"swap\" function with arguments \"swap_list\", 1, and 3, and assign the result to \"result\"\n",
    "print(result)  # Print the modified list"
   ]
  },
  {
   "cell_type": "code",
   "execution_count": 9,
   "metadata": {},
   "outputs": [
    {
     "name": "stdout",
     "output_type": "stream",
     "text": [
      "[23, 90, 19, 65, 50, 60, 78, 40]\n"
     ]
    }
   ],
   "source": [
    "from typing import List  # 1. Import the List type hint from the typing module.\n",
    "\n",
    "def swap(lst: List[int], i: int, j: int) -> List[int]:  # 2. Define the swap function that takes a list and two indices as arguments and returns a list.\n",
    "    \"\"\"\n",
    "    Swaps the values at the given indices in the list and returns the modified list.\n",
    "    \"\"\"\n",
    "    if i < 0 or i >= len(lst) or j < 0 or j >= len(lst) or type(lst[i]) != type(lst[j]):  # 3. Check if the indices are valid and the values at the indices have the same type.\n",
    "        raise ValueError(\"Invalid input\")  # 4. Raise a ValueError if the input is invalid.\n",
    "    \n",
    "    lst[i], lst[j] = lst[j], lst[i]  # 5. Swap the values at the given indices using multiple assignment.\n",
    "    return lst  # 6. Return the modified list.\n",
    "\n",
    "swap_list = [23, 65, 19, 90, 50, 60, 78, 40]  # 7. Define a list to be used as input for the swap function.\n",
    "result = swap(swap_list, 1, 3)  # 8. Call the swap function with the list and the indices 1 and 3.\n",
    "print(result)  # 9. Print the modified list to the terminal."
   ]
  },
  {
   "cell_type": "code",
   "execution_count": 10,
   "metadata": {},
   "outputs": [
    {
     "name": "stdout",
     "output_type": "stream",
     "text": [
      "['DCI', 'Digital', 'Career']\n"
     ]
    }
   ],
   "source": [
    "def filter_strings_without_digits(string_list):\n",
    "    # Define a function that takes a list of strings as input and returns a new list that contains only the strings that do not contain any digits.\n",
    "    \n",
    "    filtered_list = [string for string in string_list if not any(character.isdigit() for character in string)]\n",
    "    # Use a list comprehension to filter the input list based on the condition `not any(character.isdigit() for character in string)`, which checks if any character in a string `string` is a digit. The resulting list is assigned to `filtered_list`.\n",
    "    \n",
    "    return filtered_list\n",
    "    # Return the filtered list.\n",
    "\n",
    "input_list = ['Digital Car33r Institute', 'DCI', 'Digital', 'Career', 'Inst1tut3']\n",
    "# Define a list of strings to be used as input for the `filter_strings_without_digits` function.\n",
    "\n",
    "filtered_list = filter_strings_without_digits(input_list)\n",
    "# Call the `filter_strings_without_digits` function with the input list and assign the resulting filtered list to `filtered_list`.\n",
    "\n",
    "print(filtered_list)\n",
    "# Print the filtered list to the terminal."
   ]
  },
  {
   "cell_type": "code",
   "execution_count": 11,
   "metadata": {},
   "outputs": [
    {
     "name": "stdout",
     "output_type": "stream",
     "text": [
      "[2, 4, 6, 8, 10]\n"
     ]
    }
   ],
   "source": [
    "numbers = [1, 2, 3, 4, 5, 6, 7, 8, 9, 10]  # 1. Define a list of numbers to be used as input.\n",
    "even_numbers = [n for n in numbers if n % 2 == 0]  # 2. Use a list comprehension to create a new list that only includes the even numbers from the input list.\n",
    "print(even_numbers)  # 3. Print the new list of even numbers to the terminal."
   ]
  },
  {
   "cell_type": "code",
   "execution_count": 12,
   "metadata": {},
   "outputs": [
    {
     "name": "stdout",
     "output_type": "stream",
     "text": [
      "[1, 4, 9, 16, 25]\n"
     ]
    }
   ],
   "source": [
    "numbers = [1, 2, 3, 4, 5]  # 1. Define a list of numbers to be used as input.\n",
    "squares = [n**2 for n in numbers]  # 2. Use a list comprehension to create a new list that contains the squares of each number in the input list.\n",
    "print(squares)  # 3. Print the new list of squares to the terminal."
   ]
  },
  {
   "cell_type": "code",
   "execution_count": 14,
   "metadata": {},
   "outputs": [
    {
     "name": "stdout",
     "output_type": "stream",
     "text": [
      "[(1, [1]), (2, [1, 2]), (3, [1, 3]), (4, [1, 2, 4]), (5, [1, 5])]\n"
     ]
    }
   ],
   "source": [
    "def get_factors(number_list):\n",
    "\n",
    "    \n",
    "    factor_list = [(number, [factor for factor in range(1, number+1) if number % factor == 0]) for number in number_list]\n",
    "  \n",
    "    \n",
    "    return factor_list\n",
    "    \n",
    "\n",
    "number_list = [1, 2, 3, 4, 5]\n",
    "\n",
    "\n",
    "factor_list = get_factors(number_list)\n",
    "\n",
    "\n",
    "print(factor_list)\n"
   ]
  },
  {
   "cell_type": "code",
   "execution_count": 6,
   "metadata": {},
   "outputs": [
    {
     "name": "stdout",
     "output_type": "stream",
     "text": [
      "[3, 'four', 5]\n"
     ]
    }
   ],
   "source": [
    "\n",
    "my_list = [1,2,3, 'four', 5]\n",
    "my_list.append(my_list[-1])\n",
    "new_list = my_list[2:5]\n",
    "print(new_list)\n",
    "\n"
   ]
  },
  {
   "cell_type": "code",
   "execution_count": 7,
   "metadata": {},
   "outputs": [
    {
     "name": "stdout",
     "output_type": "stream",
     "text": [
      "[3, 'four', 5]\n"
     ]
    }
   ],
   "source": [
    "my_list = [1,2,3, 'four', 5]\n",
    "new_list = my_list[2:4] + [my_list[-1]]\n",
    "print(new_list)"
   ]
  }
 ],
 "metadata": {
  "kernelspec": {
   "display_name": "Python 3",
   "language": "python",
   "name": "python3"
  },
  "language_info": {
   "codemirror_mode": {
    "name": "ipython",
    "version": 3
   },
   "file_extension": ".py",
   "mimetype": "text/x-python",
   "name": "python",
   "nbconvert_exporter": "python",
   "pygments_lexer": "ipython3",
   "version": "3.11.3"
  },
  "orig_nbformat": 4
 },
 "nbformat": 4,
 "nbformat_minor": 2
}
